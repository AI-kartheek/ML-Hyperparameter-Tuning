{
 "cells": [
  {
   "cell_type": "markdown",
   "metadata": {},
   "source": [
    "### All Techniques Of Hyper Parameter Optimization\n",
    "\n",
    "1. GridSearchCV\n",
    "2. RandomizedSearchCV\n",
    "3. Bayesian Optimization -Automate Hyperparameter Tuning (Hyperopt)\n",
    "4. Sequential Model Based Optimization(Tuning a scikit-learn estimator with skopt)\n",
    "4. Optuna- Automate Hyperparameter Tuning\n",
    "5. Genetic Algorithms (TPOT Classifier)\n",
    "\n",
    "###### References\n",
    "- https://github.com/fmfn/BayesianOptimization\n",
    "- https://github.com/hyperopt/hyperopt\n",
    "- https://www.jeremyjordan.me/hyperparameter-tuning/\n",
    "- https://optuna.org/\n",
    "- https://towardsdatascience.com/hyperparameters-optimization-526348bb8e2d(By Pier Paolo Ippolito )\n",
    "- https://scikit-optimize.github.io/stable/auto_examples/hyperparameter-optimization.html\n"
   ]
  },
  {
   "cell_type": "markdown",
   "metadata": {},
   "source": [
    "All hyper parameter tuning optimization techniques are used when there is ``huge`` amount of ``data``, because we can see impact on accuracy. "
   ]
  },
  {
   "cell_type": "code",
   "execution_count": 1,
   "metadata": {},
   "outputs": [],
   "source": [
    "import warnings\n",
    "warnings.filterwarnings('ignore')"
   ]
  },
  {
   "cell_type": "markdown",
   "metadata": {},
   "source": [
    "**warnings** is the library which is used for **hide warnings** if any machine learning library gets warnings because of their versions."
   ]
  },
  {
   "cell_type": "code",
   "execution_count": 2,
   "metadata": {},
   "outputs": [
    {
     "data": {
      "text/html": [
       "<div>\n",
       "<style scoped>\n",
       "    .dataframe tbody tr th:only-of-type {\n",
       "        vertical-align: middle;\n",
       "    }\n",
       "\n",
       "    .dataframe tbody tr th {\n",
       "        vertical-align: top;\n",
       "    }\n",
       "\n",
       "    .dataframe thead th {\n",
       "        text-align: right;\n",
       "    }\n",
       "</style>\n",
       "<table border=\"1\" class=\"dataframe\">\n",
       "  <thead>\n",
       "    <tr style=\"text-align: right;\">\n",
       "      <th></th>\n",
       "      <th>Pregnancies</th>\n",
       "      <th>Glucose</th>\n",
       "      <th>BloodPressure</th>\n",
       "      <th>SkinThickness</th>\n",
       "      <th>Insulin</th>\n",
       "      <th>BMI</th>\n",
       "      <th>DiabetesPedigreeFunction</th>\n",
       "      <th>Age</th>\n",
       "      <th>Outcome</th>\n",
       "    </tr>\n",
       "  </thead>\n",
       "  <tbody>\n",
       "    <tr>\n",
       "      <th>0</th>\n",
       "      <td>6</td>\n",
       "      <td>148</td>\n",
       "      <td>72</td>\n",
       "      <td>35</td>\n",
       "      <td>0</td>\n",
       "      <td>33.6</td>\n",
       "      <td>0.627</td>\n",
       "      <td>50</td>\n",
       "      <td>1</td>\n",
       "    </tr>\n",
       "    <tr>\n",
       "      <th>1</th>\n",
       "      <td>1</td>\n",
       "      <td>85</td>\n",
       "      <td>66</td>\n",
       "      <td>29</td>\n",
       "      <td>0</td>\n",
       "      <td>26.6</td>\n",
       "      <td>0.351</td>\n",
       "      <td>31</td>\n",
       "      <td>0</td>\n",
       "    </tr>\n",
       "    <tr>\n",
       "      <th>2</th>\n",
       "      <td>8</td>\n",
       "      <td>183</td>\n",
       "      <td>64</td>\n",
       "      <td>0</td>\n",
       "      <td>0</td>\n",
       "      <td>23.3</td>\n",
       "      <td>0.672</td>\n",
       "      <td>32</td>\n",
       "      <td>1</td>\n",
       "    </tr>\n",
       "    <tr>\n",
       "      <th>3</th>\n",
       "      <td>1</td>\n",
       "      <td>89</td>\n",
       "      <td>66</td>\n",
       "      <td>23</td>\n",
       "      <td>94</td>\n",
       "      <td>28.1</td>\n",
       "      <td>0.167</td>\n",
       "      <td>21</td>\n",
       "      <td>0</td>\n",
       "    </tr>\n",
       "    <tr>\n",
       "      <th>4</th>\n",
       "      <td>0</td>\n",
       "      <td>137</td>\n",
       "      <td>40</td>\n",
       "      <td>35</td>\n",
       "      <td>168</td>\n",
       "      <td>43.1</td>\n",
       "      <td>2.288</td>\n",
       "      <td>33</td>\n",
       "      <td>1</td>\n",
       "    </tr>\n",
       "  </tbody>\n",
       "</table>\n",
       "</div>"
      ],
      "text/plain": [
       "   Pregnancies  Glucose  BloodPressure  SkinThickness  Insulin   BMI  \\\n",
       "0            6      148             72             35        0  33.6   \n",
       "1            1       85             66             29        0  26.6   \n",
       "2            8      183             64              0        0  23.3   \n",
       "3            1       89             66             23       94  28.1   \n",
       "4            0      137             40             35      168  43.1   \n",
       "\n",
       "   DiabetesPedigreeFunction  Age  Outcome  \n",
       "0                     0.627   50        1  \n",
       "1                     0.351   31        0  \n",
       "2                     0.672   32        1  \n",
       "3                     0.167   21        0  \n",
       "4                     2.288   33        1  "
      ]
     },
     "execution_count": 2,
     "metadata": {},
     "output_type": "execute_result"
    }
   ],
   "source": [
    "import pandas as pd\n",
    "df=pd.read_csv('diabetes.csv')\n",
    "df.head()"
   ]
  },
  {
   "cell_type": "code",
   "execution_count": 3,
   "metadata": {},
   "outputs": [
    {
     "data": {
      "text/html": [
       "<div>\n",
       "<style scoped>\n",
       "    .dataframe tbody tr th:only-of-type {\n",
       "        vertical-align: middle;\n",
       "    }\n",
       "\n",
       "    .dataframe tbody tr th {\n",
       "        vertical-align: top;\n",
       "    }\n",
       "\n",
       "    .dataframe thead th {\n",
       "        text-align: right;\n",
       "    }\n",
       "</style>\n",
       "<table border=\"1\" class=\"dataframe\">\n",
       "  <thead>\n",
       "    <tr style=\"text-align: right;\">\n",
       "      <th></th>\n",
       "      <th>Pregnancies</th>\n",
       "      <th>Glucose</th>\n",
       "      <th>BloodPressure</th>\n",
       "      <th>SkinThickness</th>\n",
       "      <th>Insulin</th>\n",
       "      <th>BMI</th>\n",
       "      <th>DiabetesPedigreeFunction</th>\n",
       "      <th>Age</th>\n",
       "      <th>Outcome</th>\n",
       "    </tr>\n",
       "  </thead>\n",
       "  <tbody>\n",
       "    <tr>\n",
       "      <th>0</th>\n",
       "      <td>6</td>\n",
       "      <td>148.0</td>\n",
       "      <td>72</td>\n",
       "      <td>35.0</td>\n",
       "      <td>30.5</td>\n",
       "      <td>33.6</td>\n",
       "      <td>0.627</td>\n",
       "      <td>50</td>\n",
       "      <td>1</td>\n",
       "    </tr>\n",
       "    <tr>\n",
       "      <th>1</th>\n",
       "      <td>1</td>\n",
       "      <td>85.0</td>\n",
       "      <td>66</td>\n",
       "      <td>29.0</td>\n",
       "      <td>30.5</td>\n",
       "      <td>26.6</td>\n",
       "      <td>0.351</td>\n",
       "      <td>31</td>\n",
       "      <td>0</td>\n",
       "    </tr>\n",
       "    <tr>\n",
       "      <th>2</th>\n",
       "      <td>8</td>\n",
       "      <td>183.0</td>\n",
       "      <td>64</td>\n",
       "      <td>23.0</td>\n",
       "      <td>30.5</td>\n",
       "      <td>23.3</td>\n",
       "      <td>0.672</td>\n",
       "      <td>32</td>\n",
       "      <td>1</td>\n",
       "    </tr>\n",
       "    <tr>\n",
       "      <th>3</th>\n",
       "      <td>1</td>\n",
       "      <td>89.0</td>\n",
       "      <td>66</td>\n",
       "      <td>23.0</td>\n",
       "      <td>94.0</td>\n",
       "      <td>28.1</td>\n",
       "      <td>0.167</td>\n",
       "      <td>21</td>\n",
       "      <td>0</td>\n",
       "    </tr>\n",
       "    <tr>\n",
       "      <th>4</th>\n",
       "      <td>0</td>\n",
       "      <td>137.0</td>\n",
       "      <td>40</td>\n",
       "      <td>35.0</td>\n",
       "      <td>168.0</td>\n",
       "      <td>43.1</td>\n",
       "      <td>2.288</td>\n",
       "      <td>33</td>\n",
       "      <td>1</td>\n",
       "    </tr>\n",
       "  </tbody>\n",
       "</table>\n",
       "</div>"
      ],
      "text/plain": [
       "   Pregnancies  Glucose  BloodPressure  SkinThickness  Insulin   BMI  \\\n",
       "0            6    148.0             72           35.0     30.5  33.6   \n",
       "1            1     85.0             66           29.0     30.5  26.6   \n",
       "2            8    183.0             64           23.0     30.5  23.3   \n",
       "3            1     89.0             66           23.0     94.0  28.1   \n",
       "4            0    137.0             40           35.0    168.0  43.1   \n",
       "\n",
       "   DiabetesPedigreeFunction  Age  Outcome  \n",
       "0                     0.627   50        1  \n",
       "1                     0.351   31        0  \n",
       "2                     0.672   32        1  \n",
       "3                     0.167   21        0  \n",
       "4                     2.288   33        1  "
      ]
     },
     "execution_count": 3,
     "metadata": {},
     "output_type": "execute_result"
    }
   ],
   "source": [
    "import numpy as np\n",
    "df['Glucose']=np.where(df['Glucose']==0,df['Glucose'].median(),df['Glucose'])\n",
    "df['Insulin']=np.where(df['Insulin']==0,df['Insulin'].median(),df['Insulin'])\n",
    "df['SkinThickness']=np.where(df['SkinThickness']==0,df['SkinThickness'].median(),df['SkinThickness'])\n",
    "\n",
    "df.head()"
   ]
  },
  {
   "cell_type": "raw",
   "metadata": {},
   "source": [
    "since glucose, SkinThickness and Insulin will never be zero in reality."
   ]
  },
  {
   "cell_type": "code",
   "execution_count": 4,
   "metadata": {},
   "outputs": [],
   "source": [
    "#### Independent And Dependent features\n",
    "X=df.drop('Outcome',axis=1)\n",
    "y=df['Outcome']"
   ]
  },
  {
   "cell_type": "code",
   "execution_count": 23,
   "metadata": {},
   "outputs": [
    {
     "data": {
      "text/html": [
       "<div>\n",
       "<style scoped>\n",
       "    .dataframe tbody tr th:only-of-type {\n",
       "        vertical-align: middle;\n",
       "    }\n",
       "\n",
       "    .dataframe tbody tr th {\n",
       "        vertical-align: top;\n",
       "    }\n",
       "\n",
       "    .dataframe thead th {\n",
       "        text-align: right;\n",
       "    }\n",
       "</style>\n",
       "<table border=\"1\" class=\"dataframe\">\n",
       "  <thead>\n",
       "    <tr style=\"text-align: right;\">\n",
       "      <th></th>\n",
       "      <th>Pregnancies</th>\n",
       "      <th>Glucose</th>\n",
       "      <th>BloodPressure</th>\n",
       "      <th>SkinThickness</th>\n",
       "      <th>Insulin</th>\n",
       "      <th>BMI</th>\n",
       "      <th>DiabetesPedigreeFunction</th>\n",
       "      <th>Age</th>\n",
       "    </tr>\n",
       "  </thead>\n",
       "  <tbody>\n",
       "    <tr>\n",
       "      <th>0</th>\n",
       "      <td>6</td>\n",
       "      <td>148.0</td>\n",
       "      <td>72</td>\n",
       "      <td>35.0</td>\n",
       "      <td>30.5</td>\n",
       "      <td>33.6</td>\n",
       "      <td>0.627</td>\n",
       "      <td>50</td>\n",
       "    </tr>\n",
       "    <tr>\n",
       "      <th>1</th>\n",
       "      <td>1</td>\n",
       "      <td>85.0</td>\n",
       "      <td>66</td>\n",
       "      <td>29.0</td>\n",
       "      <td>30.5</td>\n",
       "      <td>26.6</td>\n",
       "      <td>0.351</td>\n",
       "      <td>31</td>\n",
       "    </tr>\n",
       "    <tr>\n",
       "      <th>2</th>\n",
       "      <td>8</td>\n",
       "      <td>183.0</td>\n",
       "      <td>64</td>\n",
       "      <td>23.0</td>\n",
       "      <td>30.5</td>\n",
       "      <td>23.3</td>\n",
       "      <td>0.672</td>\n",
       "      <td>32</td>\n",
       "    </tr>\n",
       "    <tr>\n",
       "      <th>3</th>\n",
       "      <td>1</td>\n",
       "      <td>89.0</td>\n",
       "      <td>66</td>\n",
       "      <td>23.0</td>\n",
       "      <td>94.0</td>\n",
       "      <td>28.1</td>\n",
       "      <td>0.167</td>\n",
       "      <td>21</td>\n",
       "    </tr>\n",
       "    <tr>\n",
       "      <th>4</th>\n",
       "      <td>0</td>\n",
       "      <td>137.0</td>\n",
       "      <td>40</td>\n",
       "      <td>35.0</td>\n",
       "      <td>168.0</td>\n",
       "      <td>43.1</td>\n",
       "      <td>2.288</td>\n",
       "      <td>33</td>\n",
       "    </tr>\n",
       "    <tr>\n",
       "      <th>...</th>\n",
       "      <td>...</td>\n",
       "      <td>...</td>\n",
       "      <td>...</td>\n",
       "      <td>...</td>\n",
       "      <td>...</td>\n",
       "      <td>...</td>\n",
       "      <td>...</td>\n",
       "      <td>...</td>\n",
       "    </tr>\n",
       "    <tr>\n",
       "      <th>763</th>\n",
       "      <td>10</td>\n",
       "      <td>101.0</td>\n",
       "      <td>76</td>\n",
       "      <td>48.0</td>\n",
       "      <td>180.0</td>\n",
       "      <td>32.9</td>\n",
       "      <td>0.171</td>\n",
       "      <td>63</td>\n",
       "    </tr>\n",
       "    <tr>\n",
       "      <th>764</th>\n",
       "      <td>2</td>\n",
       "      <td>122.0</td>\n",
       "      <td>70</td>\n",
       "      <td>27.0</td>\n",
       "      <td>30.5</td>\n",
       "      <td>36.8</td>\n",
       "      <td>0.340</td>\n",
       "      <td>27</td>\n",
       "    </tr>\n",
       "    <tr>\n",
       "      <th>765</th>\n",
       "      <td>5</td>\n",
       "      <td>121.0</td>\n",
       "      <td>72</td>\n",
       "      <td>23.0</td>\n",
       "      <td>112.0</td>\n",
       "      <td>26.2</td>\n",
       "      <td>0.245</td>\n",
       "      <td>30</td>\n",
       "    </tr>\n",
       "    <tr>\n",
       "      <th>766</th>\n",
       "      <td>1</td>\n",
       "      <td>126.0</td>\n",
       "      <td>60</td>\n",
       "      <td>23.0</td>\n",
       "      <td>30.5</td>\n",
       "      <td>30.1</td>\n",
       "      <td>0.349</td>\n",
       "      <td>47</td>\n",
       "    </tr>\n",
       "    <tr>\n",
       "      <th>767</th>\n",
       "      <td>1</td>\n",
       "      <td>93.0</td>\n",
       "      <td>70</td>\n",
       "      <td>31.0</td>\n",
       "      <td>30.5</td>\n",
       "      <td>30.4</td>\n",
       "      <td>0.315</td>\n",
       "      <td>23</td>\n",
       "    </tr>\n",
       "  </tbody>\n",
       "</table>\n",
       "<p>768 rows × 8 columns</p>\n",
       "</div>"
      ],
      "text/plain": [
       "     Pregnancies  Glucose  BloodPressure  SkinThickness  Insulin   BMI  \\\n",
       "0              6    148.0             72           35.0     30.5  33.6   \n",
       "1              1     85.0             66           29.0     30.5  26.6   \n",
       "2              8    183.0             64           23.0     30.5  23.3   \n",
       "3              1     89.0             66           23.0     94.0  28.1   \n",
       "4              0    137.0             40           35.0    168.0  43.1   \n",
       "..           ...      ...            ...            ...      ...   ...   \n",
       "763           10    101.0             76           48.0    180.0  32.9   \n",
       "764            2    122.0             70           27.0     30.5  36.8   \n",
       "765            5    121.0             72           23.0    112.0  26.2   \n",
       "766            1    126.0             60           23.0     30.5  30.1   \n",
       "767            1     93.0             70           31.0     30.5  30.4   \n",
       "\n",
       "     DiabetesPedigreeFunction  Age  \n",
       "0                       0.627   50  \n",
       "1                       0.351   31  \n",
       "2                       0.672   32  \n",
       "3                       0.167   21  \n",
       "4                       2.288   33  \n",
       "..                        ...  ...  \n",
       "763                     0.171   63  \n",
       "764                     0.340   27  \n",
       "765                     0.245   30  \n",
       "766                     0.349   47  \n",
       "767                     0.315   23  \n",
       "\n",
       "[768 rows x 8 columns]"
      ]
     },
     "execution_count": 23,
     "metadata": {},
     "output_type": "execute_result"
    }
   ],
   "source": [
    "pd.DataFrame(X,columns=df.columns[:-1])"
   ]
  },
  {
   "cell_type": "code",
   "execution_count": 5,
   "metadata": {},
   "outputs": [],
   "source": [
    "#### Train Test Split\n",
    "from sklearn.model_selection import train_test_split\n",
    "X_train,X_test,y_train,y_test=train_test_split(X,y,test_size=0.20,random_state=0)"
   ]
  },
  {
   "cell_type": "code",
   "execution_count": 11,
   "metadata": {},
   "outputs": [],
   "source": [
    "from sklearn.ensemble import RandomForestClassifier\n",
    "rf_classifier=RandomForestClassifier(n_estimators=10).fit(X_train,y_train)\n",
    "prediction=rf_classifier.predict(X_test)"
   ]
  },
  {
   "cell_type": "code",
   "execution_count": 26,
   "metadata": {},
   "outputs": [
    {
     "data": {
      "text/plain": [
       "0    500\n",
       "1    268\n",
       "Name: Outcome, dtype: int64"
      ]
     },
     "execution_count": 26,
     "metadata": {},
     "output_type": "execute_result"
    }
   ],
   "source": [
    "y.value_counts()"
   ]
  },
  {
   "cell_type": "code",
   "execution_count": 27,
   "metadata": {},
   "outputs": [
    {
     "name": "stdout",
     "output_type": "stream",
     "text": [
      "[[92 15]\n",
      " [21 26]]\n",
      "0.7662337662337663\n",
      "              precision    recall  f1-score   support\n",
      "\n",
      "           0       0.81      0.86      0.84       107\n",
      "           1       0.63      0.55      0.59        47\n",
      "\n",
      "    accuracy                           0.77       154\n",
      "   macro avg       0.72      0.71      0.71       154\n",
      "weighted avg       0.76      0.77      0.76       154\n",
      "\n"
     ]
    }
   ],
   "source": [
    "from sklearn.metrics import confusion_matrix,classification_report,accuracy_score\n",
    "print(confusion_matrix(y_test,prediction))\n",
    "print(accuracy_score(y_test,prediction))\n",
    "print(classification_report(y_test,prediction))"
   ]
  },
  {
   "cell_type": "markdown",
   "metadata": {},
   "source": [
    "The main parameters used by a Random Forest Classifier are:\n",
    "\n",
    "- criterion = the function used to evaluate the quality of a split.\n",
    "- max_depth = maximum number of levels allowed in each tree.\n",
    "- max_features = maximum number of features considered when splitting a node.\n",
    "- min_samples_leaf = minimum number of samples which can be stored in a tree leaf.\n",
    "- min_samples_split = minimum number of samples necessary in a node to cause node splitting.\n",
    "- n_estimators = number of trees in the ensamble."
   ]
  },
  {
   "cell_type": "code",
   "execution_count": 28,
   "metadata": {},
   "outputs": [
    {
     "name": "stdout",
     "output_type": "stream",
     "text": [
      "[[97 10]\n",
      " [17 30]]\n",
      "0.8246753246753247\n",
      "              precision    recall  f1-score   support\n",
      "\n",
      "           0       0.85      0.91      0.88       107\n",
      "           1       0.75      0.64      0.69        47\n",
      "\n",
      "    accuracy                           0.82       154\n",
      "   macro avg       0.80      0.77      0.78       154\n",
      "weighted avg       0.82      0.82      0.82       154\n",
      "\n"
     ]
    }
   ],
   "source": [
    "### Manual Hyperparameter Tuning\n",
    "model=RandomForestClassifier(n_estimators=300,criterion='entropy',\n",
    "                             max_features='sqrt',min_samples_leaf=10,random_state=100).fit(X_train,y_train)\n",
    "predictions=model.predict(X_test)\n",
    "print(confusion_matrix(y_test,predictions))\n",
    "print(accuracy_score(y_test,predictions))\n",
    "print(classification_report(y_test,predictions))"
   ]
  },
  {
   "cell_type": "code",
   "execution_count": null,
   "metadata": {},
   "outputs": [],
   "source": [
    "NOTE:\n",
    "    Steps for performing HPO -\n",
    "    1) First apply randomized search cv which gives the better random attributes.\n",
    "    2) Next apply Gridsearch cv to  get into in depth and get better accuracy."
   ]
  },
  {
   "cell_type": "markdown",
   "metadata": {},
   "source": [
    "##### Randomized Search Cv"
   ]
  },
  {
   "cell_type": "code",
   "execution_count": 35,
   "metadata": {},
   "outputs": [
    {
     "name": "stdout",
     "output_type": "stream",
     "text": [
      "{'n_estimators': [200, 400, 600, 800, 1000, 1200, 1400, 1600, 1800, 2000], 'max_features': ['auto', 'sqrt', 'log2'], 'max_depth': [10, 120, 230, 340, 450, 560, 670, 780, 890, 1000], 'min_samples_split': [2, 5, 10, 14], 'min_samples_leaf': [1, 2, 4, 6, 8], 'criterion': ['entropy', 'gini']}\n"
     ]
    }
   ],
   "source": [
    "import numpy as np\n",
    "from sklearn.model_selection import RandomizedSearchCV\n",
    "# Number of trees in random forest\n",
    "n_estimators = [int(x) for x in np.linspace(start = 200, stop = 2000, num = 10)]\n",
    "# Number of features to consider at every split\n",
    "max_features = ['auto', 'sqrt','log2']\n",
    "# Maximum number of levels in tree\n",
    "max_depth = [int(x) for x in np.linspace(10, 1000,10)]\n",
    "# Minimum number of samples required to split a node\n",
    "min_samples_split = [2, 5, 10,14]\n",
    "# Minimum number of samples required at each leaf node\n",
    "min_samples_leaf = [1, 2, 4,6,8]\n",
    "# Create the random grid\n",
    "random_grid = {'n_estimators': n_estimators,\n",
    "               'max_features': max_features,\n",
    "               'max_depth': max_depth,\n",
    "               'min_samples_split': min_samples_split,\n",
    "               'min_samples_leaf': min_samples_leaf,\n",
    "              'criterion':['entropy','gini']}\n",
    "print(random_grid)"
   ]
  },
  {
   "cell_type": "code",
   "execution_count": 36,
   "metadata": {},
   "outputs": [
    {
     "name": "stdout",
     "output_type": "stream",
     "text": [
      "Fitting 3 folds for each of 100 candidates, totalling 300 fits\n"
     ]
    },
    {
     "name": "stderr",
     "output_type": "stream",
     "text": [
      "[Parallel(n_jobs=-1)]: Using backend LokyBackend with 8 concurrent workers.\n",
      "[Parallel(n_jobs=-1)]: Done  25 tasks      | elapsed:   13.0s\n",
      "[Parallel(n_jobs=-1)]: Done 146 tasks      | elapsed:  1.1min\n",
      "[Parallel(n_jobs=-1)]: Done 300 out of 300 | elapsed:  2.4min finished\n"
     ]
    },
    {
     "data": {
      "text/plain": [
       "RandomizedSearchCV(cv=3, estimator=RandomForestClassifier(), n_iter=100,\n",
       "                   n_jobs=-1,\n",
       "                   param_distributions={'criterion': ['entropy', 'gini'],\n",
       "                                        'max_depth': [10, 120, 230, 340, 450,\n",
       "                                                      560, 670, 780, 890,\n",
       "                                                      1000],\n",
       "                                        'max_features': ['auto', 'sqrt',\n",
       "                                                         'log2'],\n",
       "                                        'min_samples_leaf': [1, 2, 4, 6, 8],\n",
       "                                        'min_samples_split': [2, 5, 10, 14],\n",
       "                                        'n_estimators': [200, 400, 600, 800,\n",
       "                                                         1000, 1200, 1400, 1600,\n",
       "                                                         1800, 2000]},\n",
       "                   random_state=100, verbose=2)"
      ]
     },
     "execution_count": 36,
     "metadata": {},
     "output_type": "execute_result"
    }
   ],
   "source": [
    "rf=RandomForestClassifier()\n",
    "rf_randomcv=RandomizedSearchCV(estimator=rf,param_distributions=random_grid,n_iter=100,cv=3,verbose=2,\n",
    "                               random_state=100,n_jobs=-1)\n",
    "### fit the randomized model\n",
    "rf_randomcv.fit(X_train,y_train)"
   ]
  },
  {
   "cell_type": "code",
   "execution_count": 37,
   "metadata": {},
   "outputs": [
    {
     "data": {
      "text/plain": [
       "{'n_estimators': 1600,\n",
       " 'min_samples_split': 10,\n",
       " 'min_samples_leaf': 1,\n",
       " 'max_features': 'auto',\n",
       " 'max_depth': 780,\n",
       " 'criterion': 'entropy'}"
      ]
     },
     "execution_count": 37,
     "metadata": {},
     "output_type": "execute_result"
    }
   ],
   "source": [
    "rf_randomcv.best_params_"
   ]
  },
  {
   "cell_type": "code",
   "execution_count": 38,
   "metadata": {},
   "outputs": [
    {
     "data": {
      "text/plain": [
       "RandomizedSearchCV(cv=3, estimator=RandomForestClassifier(), n_iter=100,\n",
       "                   n_jobs=-1,\n",
       "                   param_distributions={'criterion': ['entropy', 'gini'],\n",
       "                                        'max_depth': [10, 120, 230, 340, 450,\n",
       "                                                      560, 670, 780, 890,\n",
       "                                                      1000],\n",
       "                                        'max_features': ['auto', 'sqrt',\n",
       "                                                         'log2'],\n",
       "                                        'min_samples_leaf': [1, 2, 4, 6, 8],\n",
       "                                        'min_samples_split': [2, 5, 10, 14],\n",
       "                                        'n_estimators': [200, 400, 600, 800,\n",
       "                                                         1000, 1200, 1400, 1600,\n",
       "                                                         1800, 2000]},\n",
       "                   random_state=100, verbose=2)"
      ]
     },
     "execution_count": 38,
     "metadata": {},
     "output_type": "execute_result"
    }
   ],
   "source": [
    "rf_randomcv"
   ]
  },
  {
   "cell_type": "code",
   "execution_count": 39,
   "metadata": {},
   "outputs": [
    {
     "data": {
      "text/plain": [
       "RandomForestClassifier(criterion='entropy', max_depth=780, min_samples_split=10,\n",
       "                       n_estimators=1600)"
      ]
     },
     "execution_count": 39,
     "metadata": {},
     "output_type": "execute_result"
    }
   ],
   "source": [
    "rf_randomcv.best_estimator_\n"
   ]
  },
  {
   "cell_type": "code",
   "execution_count": 40,
   "metadata": {},
   "outputs": [],
   "source": [
    "best_random_grid=rf_randomcv.best_estimator_"
   ]
  },
  {
   "cell_type": "code",
   "execution_count": 41,
   "metadata": {},
   "outputs": [
    {
     "name": "stdout",
     "output_type": "stream",
     "text": [
      "[[96 11]\n",
      " [13 34]]\n",
      "Accuracy Score 0.8441558441558441\n",
      "Classification report:               precision    recall  f1-score   support\n",
      "\n",
      "           0       0.88      0.90      0.89       107\n",
      "           1       0.76      0.72      0.74        47\n",
      "\n",
      "    accuracy                           0.84       154\n",
      "   macro avg       0.82      0.81      0.81       154\n",
      "weighted avg       0.84      0.84      0.84       154\n",
      "\n"
     ]
    }
   ],
   "source": [
    "from sklearn.metrics import accuracy_score\n",
    "y_pred=best_random_grid.predict(X_test)\n",
    "print(confusion_matrix(y_test,y_pred))\n",
    "print(\"Accuracy Score {}\".format(accuracy_score(y_test,y_pred)))\n",
    "print(\"Classification report: {}\".format(classification_report(y_test,y_pred)))"
   ]
  },
  {
   "cell_type": "markdown",
   "metadata": {},
   "source": [
    "#### GridSearch CV"
   ]
  },
  {
   "cell_type": "code",
   "execution_count": 42,
   "metadata": {},
   "outputs": [
    {
     "data": {
      "text/plain": [
       "{'n_estimators': 1600,\n",
       " 'min_samples_split': 10,\n",
       " 'min_samples_leaf': 1,\n",
       " 'max_features': 'auto',\n",
       " 'max_depth': 780,\n",
       " 'criterion': 'entropy'}"
      ]
     },
     "execution_count": 42,
     "metadata": {},
     "output_type": "execute_result"
    }
   ],
   "source": [
    "rf_randomcv.best_params_"
   ]
  },
  {
   "cell_type": "code",
   "execution_count": 43,
   "metadata": {},
   "outputs": [
    {
     "name": "stdout",
     "output_type": "stream",
     "text": [
      "{'criterion': ['entropy'], 'max_depth': [780], 'max_features': ['auto'], 'min_samples_leaf': [1, 3, 5], 'min_samples_split': [8, 9, 10, 11, 12], 'n_estimators': [1400, 1500, 1600, 1700, 1800]}\n"
     ]
    }
   ],
   "source": [
    "from sklearn.model_selection import GridSearchCV\n",
    "\n",
    "param_grid = {\n",
    "    'criterion': [rf_randomcv.best_params_['criterion']],\n",
    "    'max_depth': [rf_randomcv.best_params_['max_depth']],\n",
    "    'max_features': [rf_randomcv.best_params_['max_features']],\n",
    "    'min_samples_leaf': [rf_randomcv.best_params_['min_samples_leaf'], \n",
    "                         rf_randomcv.best_params_['min_samples_leaf']+2, \n",
    "                         rf_randomcv.best_params_['min_samples_leaf'] + 4],\n",
    "    'min_samples_split': [rf_randomcv.best_params_['min_samples_split'] - 2,\n",
    "                          rf_randomcv.best_params_['min_samples_split'] - 1,\n",
    "                          rf_randomcv.best_params_['min_samples_split'], \n",
    "                          rf_randomcv.best_params_['min_samples_split'] +1,\n",
    "                          rf_randomcv.best_params_['min_samples_split'] + 2],\n",
    "    'n_estimators': [rf_randomcv.best_params_['n_estimators'] - 200, rf_randomcv.best_params_['n_estimators'] - 100, \n",
    "                     rf_randomcv.best_params_['n_estimators'], \n",
    "                     rf_randomcv.best_params_['n_estimators'] + 100, rf_randomcv.best_params_['n_estimators'] + 200]\n",
    "}\n",
    "\n",
    "print(param_grid)"
   ]
  },
  {
   "cell_type": "markdown",
   "metadata": {},
   "source": [
    "In Grid Search CV -- Number of **iterations** will take place is multiply of number of parameters chooosen above.\n",
    "``i.e. 1*1*1*3*5*5 = 75 ``"
   ]
  },
  {
   "cell_type": "code",
   "execution_count": 44,
   "metadata": {},
   "outputs": [
    {
     "name": "stdout",
     "output_type": "stream",
     "text": [
      "Fitting 10 folds for each of 75 candidates, totalling 750 fits\n"
     ]
    },
    {
     "name": "stderr",
     "output_type": "stream",
     "text": [
      "[Parallel(n_jobs=-1)]: Using backend LokyBackend with 8 concurrent workers.\n",
      "[Parallel(n_jobs=-1)]: Done  25 tasks      | elapsed:   18.1s\n",
      "[Parallel(n_jobs=-1)]: Done 146 tasks      | elapsed:  1.8min\n",
      "[Parallel(n_jobs=-1)]: Done 349 tasks      | elapsed:  4.3min\n",
      "[Parallel(n_jobs=-1)]: Done 632 tasks      | elapsed:  7.7min\n",
      "[Parallel(n_jobs=-1)]: Done 750 out of 750 | elapsed:  9.1min finished\n"
     ]
    },
    {
     "data": {
      "text/plain": [
       "GridSearchCV(cv=10, estimator=RandomForestClassifier(), n_jobs=-1,\n",
       "             param_grid={'criterion': ['entropy'], 'max_depth': [780],\n",
       "                         'max_features': ['auto'],\n",
       "                         'min_samples_leaf': [1, 3, 5],\n",
       "                         'min_samples_split': [8, 9, 10, 11, 12],\n",
       "                         'n_estimators': [1400, 1500, 1600, 1700, 1800]},\n",
       "             verbose=2)"
      ]
     },
     "execution_count": 44,
     "metadata": {},
     "output_type": "execute_result"
    }
   ],
   "source": [
    "#### Fit the grid_search to the data\n",
    "rf=RandomForestClassifier()\n",
    "grid_search=GridSearchCV(estimator=rf,param_grid=param_grid,cv=10,n_jobs=-1,verbose=2)\n",
    "grid_search.fit(X_train,y_train)\n"
   ]
  },
  {
   "cell_type": "code",
   "execution_count": 20,
   "metadata": {},
   "outputs": [
    {
     "data": {
      "text/plain": [
       "RandomForestClassifier(max_depth=450, max_features='log2', min_samples_leaf=3,\n",
       "                       min_samples_split=3)"
      ]
     },
     "execution_count": 20,
     "metadata": {},
     "output_type": "execute_result"
    }
   ],
   "source": [
    "grid_search.best_estimator_"
   ]
  },
  {
   "cell_type": "code",
   "execution_count": 21,
   "metadata": {},
   "outputs": [],
   "source": [
    "best_grid=grid_search.best_estimator_"
   ]
  },
  {
   "cell_type": "code",
   "execution_count": 22,
   "metadata": {},
   "outputs": [
    {
     "data": {
      "text/plain": [
       "RandomForestClassifier(max_depth=450, max_features='log2', min_samples_leaf=3,\n",
       "                       min_samples_split=3)"
      ]
     },
     "execution_count": 22,
     "metadata": {},
     "output_type": "execute_result"
    }
   ],
   "source": [
    "best_grid"
   ]
  },
  {
   "cell_type": "code",
   "execution_count": 23,
   "metadata": {},
   "outputs": [
    {
     "name": "stdout",
     "output_type": "stream",
     "text": [
      "[[94 13]\n",
      " [15 32]]\n",
      "Accuracy Score 0.8181818181818182\n",
      "Classification report:               precision    recall  f1-score   support\n",
      "\n",
      "           0       0.86      0.88      0.87       107\n",
      "           1       0.71      0.68      0.70        47\n",
      "\n",
      "    accuracy                           0.82       154\n",
      "   macro avg       0.79      0.78      0.78       154\n",
      "weighted avg       0.82      0.82      0.82       154\n",
      "\n"
     ]
    }
   ],
   "source": [
    "y_pred=best_grid.predict(X_test)\n",
    "print(confusion_matrix(y_test,y_pred))\n",
    "print(\"Accuracy Score {}\".format(accuracy_score(y_test,y_pred)))\n",
    "print(\"Classification report: {}\".format(classification_report(y_test,y_pred)))"
   ]
  },
  {
   "cell_type": "markdown",
   "metadata": {},
   "source": [
    "### Automated Hyperparameter Tuning\n",
    "Automated Hyperparameter Tuning can be done by using techniques such as \n",
    "- Bayesian Optimization\n",
    "- Gradient Descent\n",
    "- Evolutionary Algorithms"
   ]
  },
  {
   "cell_type": "markdown",
   "metadata": {},
   "source": [
    "#### Bayesian Optimization\n",
    "Bayesian optimization uses probability to find the minimum of a function. The final aim is to find the input value to a function which can gives us the lowest possible output value.It usually performs better than random,grid and manual search providing better performance in the testing phase and reduced optimization time.\n",
    "In Hyperopt, Bayesian Optimization can be implemented giving 3 three main parameters to the function fmin.\n",
    "\n",
    "- Objective Function = defines the loss function to minimize.\n",
    "- Domain Space = defines the range of input values to test (in Bayesian Optimization this space creates a probability distribution for each of the used Hyperparameters).\n",
    "- Optimization Algorithm = defines the search algorithm to use to select the best input values to use in each new iteration."
   ]
  },
  {
   "cell_type": "code",
   "execution_count": 6,
   "metadata": {},
   "outputs": [],
   "source": [
    "from hyperopt import hp,fmin,tpe,STATUS_OK,Trials"
   ]
  },
  {
   "cell_type": "code",
   "execution_count": 7,
   "metadata": {},
   "outputs": [],
   "source": [
    "space = {'criterion': hp.choice('criterion', ['entropy', 'gini']),\n",
    "        'max_depth': hp.quniform('max_depth', 10, 1200, 10),  # used to select 10 integers ranging from [10, 1200]\n",
    "        'max_features': hp.choice('max_features', ['auto', 'sqrt','log2', None]),\n",
    "        'min_samples_leaf': hp.uniform('min_samples_leaf', 0, 0.5),\n",
    "        'min_samples_split' : hp.uniform ('min_samples_split', 0, 1),\n",
    "        'n_estimators' : hp.choice('n_estimators', [10, 50, 300, 750, 1200,1300,1500])\n",
    "    }"
   ]
  },
  {
   "cell_type": "code",
   "execution_count": 8,
   "metadata": {},
   "outputs": [
    {
     "data": {
      "text/plain": [
       "{'criterion': <hyperopt.pyll.base.Apply at 0x22e35109880>,\n",
       " 'max_depth': <hyperopt.pyll.base.Apply at 0x22e35109a60>,\n",
       " 'max_features': <hyperopt.pyll.base.Apply at 0x22e351098e0>,\n",
       " 'min_samples_leaf': <hyperopt.pyll.base.Apply at 0x22e35109940>,\n",
       " 'min_samples_split': <hyperopt.pyll.base.Apply at 0x22e35109d60>,\n",
       " 'n_estimators': <hyperopt.pyll.base.Apply at 0x22e3511a040>}"
      ]
     },
     "execution_count": 8,
     "metadata": {},
     "output_type": "execute_result"
    }
   ],
   "source": [
    "space"
   ]
  },
  {
   "cell_type": "code",
   "execution_count": 9,
   "metadata": {},
   "outputs": [],
   "source": [
    "\n",
    "def objective(space):\n",
    "    model = RandomForestClassifier(criterion = space['criterion'], max_depth = space['max_depth'],\n",
    "                                 max_features = space['max_features'],\n",
    "                                 min_samples_leaf = space['min_samples_leaf'],\n",
    "                                 min_samples_split = space['min_samples_split'],\n",
    "                                 n_estimators = space['n_estimators'], \n",
    "                                 )\n",
    "    \n",
    "    accuracy = cross_val_score(model, X_train, y_train, cv = 5).mean()\n",
    "\n",
    "    # We aim to maximize accuracy, therefore we return it as a negative value\n",
    "    return {'loss': -accuracy, 'status': STATUS_OK }"
   ]
  },
  {
   "cell_type": "code",
   "execution_count": 12,
   "metadata": {},
   "outputs": [
    {
     "name": "stdout",
     "output_type": "stream",
     "text": [
      "100%|███████████████████████████████████████████████████████████████| 80/80 [01:27<00:00,  1.09s/trial, best loss: nan]\n"
     ]
    },
    {
     "data": {
      "text/plain": [
       "{'criterion': 0,\n",
       " 'max_depth': 670.0,\n",
       " 'max_features': 0,\n",
       " 'min_samples_leaf': 0.22091992317914944,\n",
       " 'min_samples_split': 0.8564792687516736,\n",
       " 'n_estimators': 4}"
      ]
     },
     "execution_count": 12,
     "metadata": {},
     "output_type": "execute_result"
    }
   ],
   "source": [
    "#now we are minimising the loss \n",
    "\n",
    "from sklearn.model_selection import cross_val_score\n",
    "trials = Trials()\n",
    "best = fmin(fn= objective,\n",
    "            space= space,\n",
    "            algo= tpe.suggest, #this is the algoithm for minimising loss.\n",
    "            max_evals = 80,\n",
    "            trials= trials)\n",
    "best"
   ]
  },
  {
   "cell_type": "code",
   "execution_count": 21,
   "metadata": {},
   "outputs": [
    {
     "name": "stdout",
     "output_type": "stream",
     "text": [
      "entropy\n",
      "auto\n",
      "1200\n"
     ]
    }
   ],
   "source": [
    "crit = {0: 'entropy', 1: 'gini'}\n",
    "feat = {0: 'auto', 1: 'sqrt', 2: 'log2', 3: None}\n",
    "est = {0: 10, 1: 50, 2: 300, 3: 750, 4: 1200,5:1300,6:1500}\n",
    "\n",
    "\n",
    "print(crit[best['criterion']])\n",
    "print(feat[best['max_features']])\n",
    "print(est[best['n_estimators']])"
   ]
  },
  {
   "cell_type": "code",
   "execution_count": 14,
   "metadata": {},
   "outputs": [
    {
     "data": {
      "text/plain": [
       "0.22091992317914944"
      ]
     },
     "execution_count": 14,
     "metadata": {},
     "output_type": "execute_result"
    }
   ],
   "source": [
    "best['min_samples_leaf']"
   ]
  },
  {
   "cell_type": "code",
   "execution_count": 16,
   "metadata": {},
   "outputs": [],
   "source": [
    "from sklearn.metrics import accuracy_score, confusion_matrix, classification_report"
   ]
  },
  {
   "cell_type": "code",
   "execution_count": 17,
   "metadata": {},
   "outputs": [
    {
     "name": "stdout",
     "output_type": "stream",
     "text": [
      "[[107   0]\n",
      " [ 47   0]]\n",
      "0.6948051948051948\n",
      "              precision    recall  f1-score   support\n",
      "\n",
      "           0       0.69      1.00      0.82       107\n",
      "           1       0.00      0.00      0.00        47\n",
      "\n",
      "    accuracy                           0.69       154\n",
      "   macro avg       0.35      0.50      0.41       154\n",
      "weighted avg       0.48      0.69      0.57       154\n",
      "\n"
     ]
    }
   ],
   "source": [
    "trainedforest = RandomForestClassifier(criterion = crit[best['criterion']], max_depth = best['max_depth'], \n",
    "                                       max_features = feat[best['max_features']], \n",
    "                                       min_samples_leaf = best['min_samples_leaf'], \n",
    "                                       min_samples_split = best['min_samples_split'], \n",
    "                                       n_estimators = est[best['n_estimators']]).fit(X_train,y_train)\n",
    "predictionforest = trainedforest.predict(X_test)\n",
    "print(confusion_matrix(y_test,predictionforest))\n",
    "print(accuracy_score(y_test,predictionforest))\n",
    "print(classification_report(y_test,predictionforest))\n",
    "acc5 = accuracy_score(y_test,predictionforest)"
   ]
  },
  {
   "cell_type": "markdown",
   "metadata": {},
   "source": [
    "#### Genetic Algorithms\n",
    "Genetic Algorithms tries to apply natural selection mechanisms to Machine Learning contexts.\n",
    "\n",
    "Let's immagine we create a population of N Machine Learning models with some predifined Hyperparameters. We can then calculate the accuracy of each model and decide to keep just half of the models (the ones that performs best). We can now generate some offsprings having similar Hyperparameters to the ones of the best models so that go get again a population of N models. At this point we can again caltulate the accuracy of each model and repeate the cycle for a defined number of generations. In this way, just the best models will survive at the end of the process."
   ]
  },
  {
   "cell_type": "code",
   "execution_count": 19,
   "metadata": {},
   "outputs": [
    {
     "name": "stdout",
     "output_type": "stream",
     "text": [
      "{'n_estimators': [200, 400, 600, 800, 1000, 1200, 1400, 1600, 1800, 2000], 'max_features': ['auto', 'sqrt', 'log2'], 'max_depth': [10, 120, 230, 340, 450, 560, 670, 780, 890, 1000], 'min_samples_split': [2, 5, 10, 14], 'min_samples_leaf': [1, 2, 4, 6, 8], 'criterion': ['entropy', 'gini']}\n"
     ]
    }
   ],
   "source": [
    "import numpy as np\n",
    "from sklearn.model_selection import RandomizedSearchCV\n",
    "# Number of trees in random forest\n",
    "n_estimators = [int(x) for x in np.linspace(start = 200, stop = 2000, num = 10)]\n",
    "# Number of features to consider at every split\n",
    "max_features = ['auto', 'sqrt','log2']\n",
    "# Maximum number of levels in tree\n",
    "max_depth = [int(x) for x in np.linspace(10, 1000,10)]\n",
    "# Minimum number of samples required to split a node\n",
    "min_samples_split = [2, 5, 10,14]\n",
    "# Minimum number of samples required at each leaf node\n",
    "min_samples_leaf = [1, 2, 4,6,8]\n",
    "# Create the random grid\n",
    "param = {'n_estimators': n_estimators,\n",
    "               'max_features': max_features,\n",
    "               'max_depth': max_depth,\n",
    "               'min_samples_split': min_samples_split,\n",
    "               'min_samples_leaf': min_samples_leaf,\n",
    "              'criterion':['entropy','gini']}\n",
    "print(param)"
   ]
  },
  {
   "cell_type": "code",
   "execution_count": 20,
   "metadata": {},
   "outputs": [
    {
     "data": {
      "application/vnd.jupyter.widget-view+json": {
       "model_id": "",
       "version_major": 2,
       "version_minor": 0
      },
      "text/plain": [
       "HBox(children=(FloatProgress(value=0.0, description='Optimization Progress', max=84.0, style=ProgressStyle(des…"
      ]
     },
     "metadata": {},
     "output_type": "display_data"
    },
    {
     "name": "stdout",
     "output_type": "stream",
     "text": [
      "\n",
      "Generation 1 - Current best internal CV score: 0.7573635514811985\n",
      "Generation 2 - Current best internal CV score: 0.7573635514811985\n",
      "Generation 3 - Current best internal CV score: 0.7573635514811985\n",
      "Generation 4 - Current best internal CV score: 0.7589338765809355\n",
      "Generation 5 - Current best internal CV score: 0.7589338765809355\n",
      "Best pipeline: RandomForestClassifier(RandomForestClassifier(input_matrix, criterion=gini, max_depth=230, max_features=sqrt, min_samples_leaf=8, min_samples_split=10, n_estimators=1000), criterion=gini, max_depth=780, max_features=log2, min_samples_leaf=4, min_samples_split=5, n_estimators=400)\n"
     ]
    },
    {
     "data": {
      "text/plain": [
       "TPOTClassifier(config_dict={'sklearn.ensemble.RandomForestClassifier': {'criterion': ['entropy',\n",
       "                                                                                      'gini'],\n",
       "                                                                        'max_depth': [10,\n",
       "                                                                                      120,\n",
       "                                                                                      230,\n",
       "                                                                                      340,\n",
       "                                                                                      450,\n",
       "                                                                                      560,\n",
       "                                                                                      670,\n",
       "                                                                                      780,\n",
       "                                                                                      890,\n",
       "                                                                                      1000],\n",
       "                                                                        'max_features': ['auto',\n",
       "                                                                                         'sqrt',\n",
       "                                                                                         'log2'],\n",
       "                                                                        'min_samples_leaf': [1,\n",
       "                                                                                             2,\n",
       "                                                                                             4,\n",
       "                                                                                             6,\n",
       "                                                                                             8],\n",
       "                                                                        'min_samples_split': [2,\n",
       "                                                                                              5,\n",
       "                                                                                              10,\n",
       "                                                                                              14],\n",
       "                                                                        'n_estimators': [200,\n",
       "                                                                                         400,\n",
       "                                                                                         600,\n",
       "                                                                                         800,\n",
       "                                                                                         1000,\n",
       "                                                                                         1200,\n",
       "                                                                                         1400,\n",
       "                                                                                         1600,\n",
       "                                                                                         1800,\n",
       "                                                                                         2000]}},\n",
       "               cv=4, early_stop=12, generations=5,\n",
       "               log_file=<ipykernel.iostream.OutStream object at 0x0000022E149DBB80>,\n",
       "               offspring_size=12, population_size=24, scoring='accuracy',\n",
       "               verbosity=2)"
      ]
     },
     "execution_count": 20,
     "metadata": {},
     "output_type": "execute_result"
    }
   ],
   "source": [
    "!pip install tpot\n",
    "from tpot import TPOTClassifier\n",
    "\n",
    "\n",
    "tpot_classifier = TPOTClassifier(generations= 5, population_size= 24, offspring_size= 12,\n",
    "                                 verbosity= 2, early_stop= 12,\n",
    "                                 config_dict={'sklearn.ensemble.RandomForestClassifier': param}, \n",
    "                                 cv = 4, scoring = 'accuracy')\n",
    "tpot_classifier.fit(X_train,y_train)"
   ]
  },
  {
   "cell_type": "markdown",
   "metadata": {},
   "source": [
    "``offspring_size`` is given as half of the ``populatoin_size`` attrubute."
   ]
  },
  {
   "cell_type": "code",
   "execution_count": 22,
   "metadata": {},
   "outputs": [
    {
     "name": "stdout",
     "output_type": "stream",
     "text": [
      "0.8376623376623377\n"
     ]
    }
   ],
   "source": [
    "\n",
    "accuracy = tpot_classifier.score(X_test, y_test)\n",
    "print(accuracy)"
   ]
  },
  {
   "cell_type": "markdown",
   "metadata": {},
   "source": [
    "### Optimize hyperparameters of the model using Optuna\n",
    "\n",
    "The hyperparameters of the above algorithm are `n_estimators` and `max_depth` for which we can try different values to see if the model accuracy can be improved. The `objective` function is modified to accept a trial object. This trial has several methods for sampling hyperparameters. We create a study to run the hyperparameter optimization and finally read the best hyperparameters."
   ]
  },
  {
   "cell_type": "code",
   "execution_count": 23,
   "metadata": {},
   "outputs": [],
   "source": [
    "import optuna\n",
    "import sklearn.svm\n",
    "\n",
    "def objective(trial):\n",
    "\n",
    "    classifier = trial.suggest_categorical('classifier', ['RandomForest', 'SVC'])\n",
    "    \n",
    "    if classifier == 'RandomForest':\n",
    "        n_estimators = trial.suggest_int('n_estimators', 200, 2000,10)\n",
    "        max_depth = int(trial.suggest_float('max_depth', 10, 100, log=True))\n",
    "\n",
    "        clf = sklearn.ensemble.RandomForestClassifier(\n",
    "            n_estimators=n_estimators, max_depth=max_depth)\n",
    "    else:\n",
    "        c = trial.suggest_float('svc_c', 1e-10, 1e10, log=True)\n",
    "        \n",
    "        clf = sklearn.svm.SVC(C=c, gamma='auto')\n",
    "\n",
    "    return sklearn.model_selection.cross_val_score(\n",
    "        clf,X_train,y_train, n_jobs=-1, cv=3).mean()\n"
   ]
  },
  {
   "cell_type": "code",
   "execution_count": 24,
   "metadata": {},
   "outputs": [
    {
     "name": "stderr",
     "output_type": "stream",
     "text": [
      "[I 2020-09-20 14:06:24,541] A new study created in memory with name: no-name-4a56d296-7f53-4523-8d43-ee764ca4de79\n",
      "[I 2020-09-20 14:07:14,052] Trial 0 finished with value: 0.75242308305436 and parameters: {'classifier': 'RandomForest', 'n_estimators': 900, 'max_depth': 52.082572291411864}. Best is trial 0 with value: 0.75242308305436.\n",
      "[I 2020-09-20 14:07:15,487] Trial 1 finished with value: 0.7491790212019768 and parameters: {'classifier': 'RandomForest', 'n_estimators': 450, 'max_depth': 45.60278066530709}. Best is trial 0 with value: 0.75242308305436.\n",
      "[I 2020-09-20 14:07:16,192] Trial 2 finished with value: 0.640068547744301 and parameters: {'classifier': 'SVC', 'svc_c': 0.32599909185187276}. Best is trial 0 with value: 0.75242308305436.\n",
      "[I 2020-09-20 14:07:16,242] Trial 3 finished with value: 0.640068547744301 and parameters: {'classifier': 'SVC', 'svc_c': 0.0012669634847779824}. Best is trial 0 with value: 0.75242308305436.\n",
      "[I 2020-09-20 14:07:16,281] Trial 4 finished with value: 0.640068547744301 and parameters: {'classifier': 'SVC', 'svc_c': 1.3146142434785259e-05}. Best is trial 0 with value: 0.75242308305436.\n",
      "[I 2020-09-20 14:07:16,310] Trial 5 finished with value: 0.640068547744301 and parameters: {'classifier': 'SVC', 'svc_c': 7661.113454232093}. Best is trial 0 with value: 0.75242308305436.\n",
      "[I 2020-09-20 14:07:16,334] Trial 6 finished with value: 0.640068547744301 and parameters: {'classifier': 'SVC', 'svc_c': 57385.910234364856}. Best is trial 0 with value: 0.75242308305436.\n",
      "[I 2020-09-20 14:07:16,745] Trial 7 finished with value: 0.7459190180137095 and parameters: {'classifier': 'RandomForest', 'n_estimators': 320, 'max_depth': 14.260313119644294}. Best is trial 0 with value: 0.75242308305436.\n",
      "[I 2020-09-20 14:07:18,462] Trial 8 finished with value: 0.7508130081300813 and parameters: {'classifier': 'RandomForest', 'n_estimators': 1320, 'max_depth': 74.57507088630153}. Best is trial 0 with value: 0.75242308305436.\n",
      "[I 2020-09-20 14:07:18,510] Trial 9 finished with value: 0.640068547744301 and parameters: {'classifier': 'SVC', 'svc_c': 3.029414189911899e-06}. Best is trial 0 with value: 0.75242308305436.\n",
      "[I 2020-09-20 14:07:21,247] Trial 10 finished with value: 0.7491710505340348 and parameters: {'classifier': 'RandomForest', 'n_estimators': 1950, 'max_depth': 26.63956948082011}. Best is trial 0 with value: 0.75242308305436.\n",
      "[I 2020-09-20 14:07:22,928] Trial 11 finished with value: 0.7524469950581859 and parameters: {'classifier': 'RandomForest', 'n_estimators': 1200, 'max_depth': 99.19237670322306}. Best is trial 11 with value: 0.7524469950581859.\n",
      "[I 2020-09-20 14:07:24,409] Trial 12 finished with value: 0.7508050374621393 and parameters: {'classifier': 'RandomForest', 'n_estimators': 1070, 'max_depth': 98.82595371086973}. Best is trial 11 with value: 0.7524469950581859.\n",
      "[I 2020-09-20 14:07:25,859] Trial 13 finished with value: 0.7491790212019768 and parameters: {'classifier': 'RandomForest', 'n_estimators': 1050, 'max_depth': 56.983728448213256}. Best is trial 11 with value: 0.7524469950581859.\n",
      "[I 2020-09-20 14:07:27,739] Trial 14 finished with value: 0.7491630798660928 and parameters: {'classifier': 'RandomForest', 'n_estimators': 1450, 'max_depth': 31.438887676186273}. Best is trial 11 with value: 0.7524469950581859.\n",
      "[I 2020-09-20 14:07:28,701] Trial 15 finished with value: 0.7508130081300813 and parameters: {'classifier': 'RandomForest', 'n_estimators': 740, 'max_depth': 96.09817073368}. Best is trial 11 with value: 0.7524469950581859.\n",
      "[I 2020-09-20 14:07:30,800] Trial 16 finished with value: 0.7507970667941973 and parameters: {'classifier': 'RandomForest', 'n_estimators': 1600, 'max_depth': 49.25006776185994}. Best is trial 11 with value: 0.7524469950581859.\n",
      "[I 2020-09-20 14:07:31,750] Trial 17 finished with value: 0.7491790212019768 and parameters: {'classifier': 'RandomForest', 'n_estimators': 700, 'max_depth': 18.015529329773077}. Best is trial 11 with value: 0.7524469950581859.\n",
      "[I 2020-09-20 14:07:32,837] Trial 18 finished with value: 0.7491869918699187 and parameters: {'classifier': 'RandomForest', 'n_estimators': 860, 'max_depth': 64.75235478296278}. Best is trial 11 with value: 0.7524469950581859.\n",
      "[I 2020-09-20 14:07:34,982] Trial 19 finished with value: 0.7459190180137095 and parameters: {'classifier': 'RandomForest', 'n_estimators': 1700, 'max_depth': 99.45429071357742}. Best is trial 11 with value: 0.7524469950581859.\n",
      "[I 2020-09-20 14:07:36,945] Trial 20 finished with value: 0.7475609756097561 and parameters: {'classifier': 'RandomForest', 'n_estimators': 1290, 'max_depth': 40.168406023655756}. Best is trial 11 with value: 0.7524469950581859.\n",
      "[I 2020-09-20 14:07:38,080] Trial 21 finished with value: 0.7507970667941973 and parameters: {'classifier': 'RandomForest', 'n_estimators': 680, 'max_depth': 85.63324101093268}. Best is trial 11 with value: 0.7524469950581859.\n",
      "[I 2020-09-20 14:07:39,478] Trial 22 finished with value: 0.7491710505340348 and parameters: {'classifier': 'RandomForest', 'n_estimators': 880, 'max_depth': 98.73809836575145}. Best is trial 11 with value: 0.7524469950581859.\n",
      "[I 2020-09-20 14:07:40,345] Trial 23 finished with value: 0.7524310537223019 and parameters: {'classifier': 'RandomForest', 'n_estimators': 540, 'max_depth': 72.36421861756799}. Best is trial 11 with value: 0.7524469950581859.\n",
      "[I 2020-09-20 14:07:41,164] Trial 24 finished with value: 0.7410090865614539 and parameters: {'classifier': 'RandomForest', 'n_estimators': 510, 'max_depth': 69.14232663217238}. Best is trial 11 with value: 0.7524469950581859.\n",
      "[I 2020-09-20 14:07:41,590] Trial 25 finished with value: 0.7507970667941973 and parameters: {'classifier': 'RandomForest', 'n_estimators': 250, 'max_depth': 59.93882860098887}. Best is trial 11 with value: 0.7524469950581859.\n",
      "[I 2020-09-20 14:07:43,507] Trial 26 finished with value: 0.7540570699824646 and parameters: {'classifier': 'RandomForest', 'n_estimators': 1200, 'max_depth': 37.53825063467807}. Best is trial 26 with value: 0.7540570699824646.\n",
      "[I 2020-09-20 14:07:45,421] Trial 27 finished with value: 0.744285031085605 and parameters: {'classifier': 'RandomForest', 'n_estimators': 1200, 'max_depth': 22.17234320859061}. Best is trial 26 with value: 0.7540570699824646.\n",
      "[I 2020-09-20 14:07:47,659] Trial 28 finished with value: 0.7524469950581859 and parameters: {'classifier': 'RandomForest', 'n_estimators': 1430, 'max_depth': 10.13417785448227}. Best is trial 26 with value: 0.7540570699824646.\n",
      "[I 2020-09-20 14:07:50,036] Trial 29 finished with value: 0.7491790212019768 and parameters: {'classifier': 'RandomForest', 'n_estimators': 1520, 'max_depth': 10.241837819083756}. Best is trial 26 with value: 0.7540570699824646.\n",
      "[I 2020-09-20 14:07:52,869] Trial 30 finished with value: 0.7508130081300813 and parameters: {'classifier': 'RandomForest', 'n_estimators': 1840, 'max_depth': 10.383276091592986}. Best is trial 26 with value: 0.7540570699824646.\n",
      "[I 2020-09-20 14:07:54,982] Trial 31 finished with value: 0.7491869918699187 and parameters: {'classifier': 'RandomForest', 'n_estimators': 1320, 'max_depth': 35.70047806485577}. Best is trial 26 with value: 0.7540570699824646.\n",
      "[I 2020-09-20 14:07:56,799] Trial 32 finished with value: 0.7491869918699187 and parameters: {'classifier': 'RandomForest', 'n_estimators': 1160, 'max_depth': 79.54184471405979}. Best is trial 26 with value: 0.7540570699824646.\n",
      "[I 2020-09-20 14:07:59,053] Trial 33 finished with value: 0.7507890961262554 and parameters: {'classifier': 'RandomForest', 'n_estimators': 1400, 'max_depth': 14.011076251012126}. Best is trial 26 with value: 0.7540570699824646.\n",
      "[I 2020-09-20 14:08:00,613] Trial 34 finished with value: 0.7393910409692332 and parameters: {'classifier': 'RandomForest', 'n_estimators': 980, 'max_depth': 26.81392646297149}. Best is trial 26 with value: 0.7540570699824646.\n",
      "[I 2020-09-20 14:08:03,237] Trial 35 finished with value: 0.7508130081300813 and parameters: {'classifier': 'RandomForest', 'n_estimators': 1650, 'max_depth': 81.85939429223686}. Best is trial 26 with value: 0.7540570699824646.\n",
      "[I 2020-09-20 14:08:05,299] Trial 36 finished with value: 0.7491710505340348 and parameters: {'classifier': 'RandomForest', 'n_estimators': 1190, 'max_depth': 41.57566810626949}. Best is trial 26 with value: 0.7540570699824646.\n",
      "[I 2020-09-20 14:08:05,337] Trial 37 finished with value: 0.640068547744301 and parameters: {'classifier': 'SVC', 'svc_c': 1.4454795027640064e-10}. Best is trial 26 with value: 0.7540570699824646.\n",
      "[I 2020-09-20 14:08:07,850] Trial 38 finished with value: 0.7475370636059302 and parameters: {'classifier': 'RandomForest', 'n_estimators': 1480, 'max_depth': 53.95280586734726}. Best is trial 26 with value: 0.7540570699824646.\n",
      "[I 2020-09-20 14:08:07,890] Trial 39 finished with value: 0.640068547744301 and parameters: {'classifier': 'SVC', 'svc_c': 7486516852.79717}. Best is trial 26 with value: 0.7540570699824646.\n",
      "[I 2020-09-20 14:08:09,414] Trial 40 finished with value: 0.7524310537223019 and parameters: {'classifier': 'RandomForest', 'n_estimators': 960, 'max_depth': 17.344135337534816}. Best is trial 26 with value: 0.7540570699824646.\n",
      "[I 2020-09-20 14:08:11,002] Trial 41 finished with value: 0.7491790212019768 and parameters: {'classifier': 'RandomForest', 'n_estimators': 980, 'max_depth': 12.56359423475617}. Best is trial 26 with value: 0.7540570699824646.\n",
      "[I 2020-09-20 14:08:11,833] Trial 42 finished with value: 0.7426590148254424 and parameters: {'classifier': 'RandomForest', 'n_estimators': 520, 'max_depth': 20.54661413513347}. Best is trial 26 with value: 0.7540570699824646.\n",
      "[I 2020-09-20 14:08:13,759] Trial 43 finished with value: 0.7540650406504065 and parameters: {'classifier': 'RandomForest', 'n_estimators': 1250, 'max_depth': 17.999329428719737}. Best is trial 43 with value: 0.7540650406504065.\n",
      "[I 2020-09-20 14:08:15,834] Trial 44 finished with value: 0.7475609756097561 and parameters: {'classifier': 'RandomForest', 'n_estimators': 1320, 'max_depth': 16.77553378872986}. Best is trial 43 with value: 0.7540650406504065.\n",
      "[I 2020-09-20 14:08:17,884] Trial 45 finished with value: 0.7491710505340348 and parameters: {'classifier': 'RandomForest', 'n_estimators': 1250, 'max_depth': 11.596549060563888}. Best is trial 43 with value: 0.7540650406504065.\n",
      "[I 2020-09-20 14:08:19,608] Trial 46 finished with value: 0.7459110473457676 and parameters: {'classifier': 'RandomForest', 'n_estimators': 1080, 'max_depth': 15.54839736318372}. Best is trial 43 with value: 0.7540650406504065.\n",
      "[I 2020-09-20 14:08:19,668] Trial 47 finished with value: 0.640068547744301 and parameters: {'classifier': 'SVC', 'svc_c': 3527774383.814585}. Best is trial 43 with value: 0.7540650406504065.\n",
      "[I 2020-09-20 14:08:21,429] Trial 48 finished with value: 0.7524310537223019 and parameters: {'classifier': 'RandomForest', 'n_estimators': 1110, 'max_depth': 25.77780673446308}. Best is trial 43 with value: 0.7540650406504065.\n",
      "[I 2020-09-20 14:08:23,602] Trial 49 finished with value: 0.7524310537223019 and parameters: {'classifier': 'RandomForest', 'n_estimators': 1390, 'max_depth': 26.31737458697835}. Best is trial 43 with value: 0.7540650406504065.\n",
      "[I 2020-09-20 14:08:25,814] Trial 50 finished with value: 0.7540570699824646 and parameters: {'classifier': 'RandomForest', 'n_estimators': 1380, 'max_depth': 30.2909416673717}. Best is trial 43 with value: 0.7540650406504065.\n",
      "[I 2020-09-20 14:08:27,667] Trial 51 finished with value: 0.7556910569105691 and parameters: {'classifier': 'RandomForest', 'n_estimators': 1140, 'max_depth': 30.65688335447792}. Best is trial 51 with value: 0.7556910569105691.\n",
      "[I 2020-09-20 14:08:30,092] Trial 52 finished with value: 0.7540650406504065 and parameters: {'classifier': 'RandomForest', 'n_estimators': 1550, 'max_depth': 31.389126897765333}. Best is trial 51 with value: 0.7556910569105691.\n",
      "[I 2020-09-20 14:08:32,570] Trial 53 finished with value: 0.7491710505340348 and parameters: {'classifier': 'RandomForest', 'n_estimators': 1580, 'max_depth': 31.984501504981992}. Best is trial 51 with value: 0.7556910569105691.\n",
      "[I 2020-09-20 14:08:35,320] Trial 54 finished with value: 0.7540570699824646 and parameters: {'classifier': 'RandomForest', 'n_estimators': 1780, 'max_depth': 32.983942343918}. Best is trial 51 with value: 0.7556910569105691.\n",
      "[I 2020-09-20 14:08:38,064] Trial 55 finished with value: 0.7524310537223019 and parameters: {'classifier': 'RandomForest', 'n_estimators': 1760, 'max_depth': 30.925606588087362}. Best is trial 51 with value: 0.7556910569105691.\n",
      "[I 2020-09-20 14:08:41,183] Trial 56 finished with value: 0.7475450342738722 and parameters: {'classifier': 'RandomForest', 'n_estimators': 1990, 'max_depth': 35.87056939366644}. Best is trial 51 with value: 0.7556910569105691.\n",
      "[I 2020-09-20 14:08:44,112] Trial 57 finished with value: 0.7508050374621393 and parameters: {'classifier': 'RandomForest', 'n_estimators': 1860, 'max_depth': 45.60350531243944}. Best is trial 51 with value: 0.7556910569105691.\n",
      "[I 2020-09-20 14:08:46,635] Trial 58 finished with value: 0.7540650406504065 and parameters: {'classifier': 'RandomForest', 'n_estimators': 1550, 'max_depth': 29.088446021133947}. Best is trial 51 with value: 0.7556910569105691.\n",
      "[I 2020-09-20 14:08:49,105] Trial 59 finished with value: 0.7524310537223019 and parameters: {'classifier': 'RandomForest', 'n_estimators': 1550, 'max_depth': 29.216512329786383}. Best is trial 51 with value: 0.7556910569105691.\n",
      "[I 2020-09-20 14:08:49,151] Trial 60 finished with value: 0.640068547744301 and parameters: {'classifier': 'SVC', 'svc_c': 1.605100112333547e-10}. Best is trial 51 with value: 0.7556910569105691.\n",
      "[I 2020-09-20 14:08:51,860] Trial 61 finished with value: 0.7524390243902439 and parameters: {'classifier': 'RandomForest', 'n_estimators': 1690, 'max_depth': 22.780377635403063}. Best is trial 51 with value: 0.7556910569105691.\n",
      "[I 2020-09-20 14:08:54,074] Trial 62 finished with value: 0.7491869918699187 and parameters: {'classifier': 'RandomForest', 'n_estimators': 1380, 'max_depth': 33.083737239666}. Best is trial 51 with value: 0.7556910569105691.\n",
      "[I 2020-09-20 14:08:56,182] Trial 63 finished with value: 0.7459110473457676 and parameters: {'classifier': 'RandomForest', 'n_estimators': 1270, 'max_depth': 39.36653750742521}. Best is trial 51 with value: 0.7556910569105691.\n",
      "[I 2020-09-20 14:08:58,632] Trial 64 finished with value: 0.7524310537223019 and parameters: {'classifier': 'RandomForest', 'n_estimators': 1510, 'max_depth': 28.457995144522936}. Best is trial 51 with value: 0.7556910569105691.\n",
      "[I 2020-09-20 14:09:01,483] Trial 65 finished with value: 0.7491710505340348 and parameters: {'classifier': 'RandomForest', 'n_estimators': 1780, 'max_depth': 35.25955850686504}. Best is trial 51 with value: 0.7556910569105691.\n",
      "[I 2020-09-20 14:09:04,053] Trial 66 finished with value: 0.7475450342738722 and parameters: {'classifier': 'RandomForest', 'n_estimators': 1630, 'max_depth': 22.804846896831908}. Best is trial 51 with value: 0.7556910569105691.\n",
      "[I 2020-09-20 14:09:05,856] Trial 67 finished with value: 0.7524310537223019 and parameters: {'classifier': 'RandomForest', 'n_estimators': 1140, 'max_depth': 43.625990866157615}. Best is trial 51 with value: 0.7556910569105691.\n",
      "[I 2020-09-20 14:09:08,816] Trial 68 finished with value: 0.7491869918699187 and parameters: {'classifier': 'RandomForest', 'n_estimators': 1900, 'max_depth': 20.13998288901117}. Best is trial 51 with value: 0.7556910569105691.\n",
      "[I 2020-09-20 14:09:10,775] Trial 69 finished with value: 0.7573250438386737 and parameters: {'classifier': 'RandomForest', 'n_estimators': 1240, 'max_depth': 38.51020285558092}. Best is trial 69 with value: 0.7573250438386737.\n",
      "[I 2020-09-20 14:09:13,172] Trial 70 finished with value: 0.7491710505340348 and parameters: {'classifier': 'RandomForest', 'n_estimators': 1460, 'max_depth': 47.33161494751833}. Best is trial 69 with value: 0.7573250438386737.\n",
      "[I 2020-09-20 14:09:15,146] Trial 71 finished with value: 0.7475530049418141 and parameters: {'classifier': 'RandomForest', 'n_estimators': 1230, 'max_depth': 38.69887649128381}. Best is trial 69 with value: 0.7573250438386737.\n"
     ]
    },
    {
     "name": "stderr",
     "output_type": "stream",
     "text": [
      "[I 2020-09-20 14:09:16,868] Trial 72 finished with value: 0.7491710505340348 and parameters: {'classifier': 'RandomForest', 'n_estimators': 1060, 'max_depth': 34.03851782425315}. Best is trial 69 with value: 0.7573250438386737.\n",
      "[I 2020-09-20 14:09:18,921] Trial 73 finished with value: 0.7475530049418141 and parameters: {'classifier': 'RandomForest', 'n_estimators': 1330, 'max_depth': 29.095180504255023}. Best is trial 69 with value: 0.7573250438386737.\n",
      "[I 2020-09-20 14:09:21,066] Trial 74 finished with value: 0.7491790212019768 and parameters: {'classifier': 'RandomForest', 'n_estimators': 1360, 'max_depth': 37.41309860331109}. Best is trial 69 with value: 0.7573250438386737.\n",
      "[I 2020-09-20 14:09:23,104] Trial 75 finished with value: 0.7491869918699187 and parameters: {'classifier': 'RandomForest', 'n_estimators': 1270, 'max_depth': 24.54422050124291}. Best is trial 69 with value: 0.7573250438386737.\n",
      "[I 2020-09-20 14:09:24,998] Trial 76 finished with value: 0.7459269886816515 and parameters: {'classifier': 'RandomForest', 'n_estimators': 1180, 'max_depth': 30.326116933720343}. Best is trial 69 with value: 0.7573250438386737.\n",
      "[I 2020-09-20 14:09:27,240] Trial 77 finished with value: 0.7540650406504065 and parameters: {'classifier': 'RandomForest', 'n_estimators': 1430, 'max_depth': 41.480424280055644}. Best is trial 69 with value: 0.7573250438386737.\n",
      "[I 2020-09-20 14:09:29,541] Trial 78 finished with value: 0.7508130081300813 and parameters: {'classifier': 'RandomForest', 'n_estimators': 1440, 'max_depth': 49.840185983987894}. Best is trial 69 with value: 0.7573250438386737.\n",
      "[I 2020-09-20 14:09:31,173] Trial 79 finished with value: 0.7540570699824646 and parameters: {'classifier': 'RandomForest', 'n_estimators': 1010, 'max_depth': 41.9480216187405}. Best is trial 69 with value: 0.7573250438386737.\n",
      "[I 2020-09-20 14:09:33,647] Trial 80 finished with value: 0.7524310537223019 and parameters: {'classifier': 'RandomForest', 'n_estimators': 1590, 'max_depth': 37.55141519049597}. Best is trial 69 with value: 0.7573250438386737.\n",
      "[I 2020-09-20 14:09:35,244] Trial 81 finished with value: 0.7491710505340348 and parameters: {'classifier': 'RandomForest', 'n_estimators': 1020, 'max_depth': 40.70688073127915}. Best is trial 69 with value: 0.7573250438386737.\n",
      "[I 2020-09-20 14:09:36,561] Trial 82 finished with value: 0.7524390243902439 and parameters: {'classifier': 'RandomForest', 'n_estimators': 840, 'max_depth': 54.30830506804706}. Best is trial 69 with value: 0.7573250438386737.\n",
      "[I 2020-09-20 14:09:38,973] Trial 83 finished with value: 0.7524469950581859 and parameters: {'classifier': 'RandomForest', 'n_estimators': 1520, 'max_depth': 42.06132246084291}. Best is trial 69 with value: 0.7573250438386737.\n",
      "[I 2020-09-20 14:09:41,715] Trial 84 finished with value: 0.7491790212019768 and parameters: {'classifier': 'RandomForest', 'n_estimators': 1730, 'max_depth': 33.55993929679426}. Best is trial 69 with value: 0.7573250438386737.\n",
      "[I 2020-09-20 14:09:43,000] Trial 85 finished with value: 0.7475450342738722 and parameters: {'classifier': 'RandomForest', 'n_estimators': 810, 'max_depth': 44.28661568780917}. Best is trial 69 with value: 0.7573250438386737.\n",
      "[I 2020-09-20 14:09:44,489] Trial 86 finished with value: 0.7491630798660928 and parameters: {'classifier': 'RandomForest', 'n_estimators': 940, 'max_depth': 27.43792769504493}. Best is trial 69 with value: 0.7573250438386737.\n",
      "[I 2020-09-20 14:09:46,227] Trial 87 finished with value: 0.7475530049418141 and parameters: {'classifier': 'RandomForest', 'n_estimators': 1120, 'max_depth': 24.673406823508255}. Best is trial 69 with value: 0.7573250438386737.\n",
      "[I 2020-09-20 14:09:46,275] Trial 88 finished with value: 0.640068547744301 and parameters: {'classifier': 'SVC', 'svc_c': 348907.51272748015}. Best is trial 69 with value: 0.7573250438386737.\n",
      "[I 2020-09-20 14:09:48,529] Trial 89 finished with value: 0.7540570699824646 and parameters: {'classifier': 'RandomForest', 'n_estimators': 1430, 'max_depth': 31.76255984992059}. Best is trial 69 with value: 0.7573250438386737.\n",
      "[I 2020-09-20 14:09:50,758] Trial 90 finished with value: 0.7524390243902439 and parameters: {'classifier': 'RandomForest', 'n_estimators': 1400, 'max_depth': 31.836084078500818}. Best is trial 69 with value: 0.7573250438386737.\n",
      "[I 2020-09-20 14:09:52,682] Trial 91 finished with value: 0.7459190180137095 and parameters: {'classifier': 'RandomForest', 'n_estimators': 1220, 'max_depth': 35.563661442627506}. Best is trial 69 with value: 0.7573250438386737.\n",
      "[I 2020-09-20 14:09:54,341] Trial 92 finished with value: 0.7491710505340348 and parameters: {'classifier': 'RandomForest', 'n_estimators': 1030, 'max_depth': 36.95781281719687}. Best is trial 69 with value: 0.7573250438386737.\n",
      "[I 2020-09-20 14:09:56,456] Trial 93 finished with value: 0.7524390243902439 and parameters: {'classifier': 'RandomForest', 'n_estimators': 1320, 'max_depth': 48.110202992015644}. Best is trial 69 with value: 0.7573250438386737.\n",
      "[I 2020-09-20 14:09:58,808] Trial 94 finished with value: 0.7491790212019768 and parameters: {'classifier': 'RandomForest', 'n_estimators': 1470, 'max_depth': 30.846464630770043}. Best is trial 69 with value: 0.7573250438386737.\n",
      "[I 2020-09-20 14:10:00,686] Trial 95 finished with value: 0.7459110473457676 and parameters: {'classifier': 'RandomForest', 'n_estimators': 1170, 'max_depth': 41.95787607564335}. Best is trial 69 with value: 0.7573250438386737.\n",
      "[I 2020-09-20 14:10:03,318] Trial 96 finished with value: 0.7508050374621393 and parameters: {'classifier': 'RandomForest', 'n_estimators': 1670, 'max_depth': 33.94809854103786}. Best is trial 69 with value: 0.7573250438386737.\n",
      "[I 2020-09-20 14:10:05,387] Trial 97 finished with value: 0.744285031085605 and parameters: {'classifier': 'RandomForest', 'n_estimators': 1300, 'max_depth': 28.298350633218952}. Best is trial 69 with value: 0.7573250438386737.\n",
      "[I 2020-09-20 14:10:07,533] Trial 98 finished with value: 0.7524310537223019 and parameters: {'classifier': 'RandomForest', 'n_estimators': 1350, 'max_depth': 39.22346879790096}. Best is trial 69 with value: 0.7573250438386737.\n",
      "[I 2020-09-20 14:10:09,977] Trial 99 finished with value: 0.755699027578511 and parameters: {'classifier': 'RandomForest', 'n_estimators': 1540, 'max_depth': 32.749143187924155}. Best is trial 69 with value: 0.7573250438386737.\n"
     ]
    },
    {
     "name": "stdout",
     "output_type": "stream",
     "text": [
      "Accuracy: 0.7573250438386737\n",
      "Best hyperparameters: {'classifier': 'RandomForest', 'n_estimators': 1240, 'max_depth': 38.51020285558092}\n"
     ]
    }
   ],
   "source": [
    "study = optuna.create_study(direction='maximize')  #used to study the maximization of accuaracy.\n",
    "study.optimize(objective, n_trials=100)\n",
    "\n",
    "trial = study.best_trial\n",
    "\n",
    "print('Accuracy: {}'.format(trial.value))\n",
    "print(\"Best hyperparameters: {}\".format(trial.params))"
   ]
  },
  {
   "cell_type": "code",
   "execution_count": 25,
   "metadata": {},
   "outputs": [
    {
     "data": {
      "text/plain": [
       "FrozenTrial(number=69, value=0.7573250438386737, datetime_start=datetime.datetime(2020, 9, 20, 14, 9, 8, 816408), datetime_complete=datetime.datetime(2020, 9, 20, 14, 9, 10, 775536), params={'classifier': 'RandomForest', 'n_estimators': 1240, 'max_depth': 38.51020285558092}, distributions={'classifier': CategoricalDistribution(choices=('RandomForest', 'SVC')), 'n_estimators': IntUniformDistribution(high=2000, low=200, step=10), 'max_depth': LogUniformDistribution(high=100, low=10)}, user_attrs={}, system_attrs={}, intermediate_values={}, trial_id=69, state=TrialState.COMPLETE)"
      ]
     },
     "execution_count": 25,
     "metadata": {},
     "output_type": "execute_result"
    }
   ],
   "source": [
    "trial"
   ]
  },
  {
   "cell_type": "code",
   "execution_count": 26,
   "metadata": {},
   "outputs": [
    {
     "data": {
      "text/plain": [
       "{'classifier': 'RandomForest',\n",
       " 'n_estimators': 1240,\n",
       " 'max_depth': 38.51020285558092}"
      ]
     },
     "execution_count": 26,
     "metadata": {},
     "output_type": "execute_result"
    }
   ],
   "source": [
    "study.best_params"
   ]
  },
  {
   "cell_type": "code",
   "execution_count": 27,
   "metadata": {},
   "outputs": [
    {
     "data": {
      "text/plain": [
       "RandomForestClassifier(max_depth=30, n_estimators=330)"
      ]
     },
     "execution_count": 27,
     "metadata": {},
     "output_type": "execute_result"
    }
   ],
   "source": [
    "rf=RandomForestClassifier(n_estimators=330,max_depth=30)\n",
    "rf.fit(X_train,y_train)"
   ]
  },
  {
   "cell_type": "code",
   "execution_count": 28,
   "metadata": {},
   "outputs": [
    {
     "name": "stdout",
     "output_type": "stream",
     "text": [
      "[[94 13]\n",
      " [16 31]]\n",
      "0.8116883116883117\n",
      "              precision    recall  f1-score   support\n",
      "\n",
      "           0       0.85      0.88      0.87       107\n",
      "           1       0.70      0.66      0.68        47\n",
      "\n",
      "    accuracy                           0.81       154\n",
      "   macro avg       0.78      0.77      0.77       154\n",
      "weighted avg       0.81      0.81      0.81       154\n",
      "\n"
     ]
    }
   ],
   "source": [
    "y_pred=rf.predict(X_test)\n",
    "print(confusion_matrix(y_test,y_pred))\n",
    "print(accuracy_score(y_test,y_pred))\n",
    "print(classification_report(y_test,y_pred))"
   ]
  },
  {
   "cell_type": "code",
   "execution_count": null,
   "metadata": {},
   "outputs": [],
   "source": []
  }
 ],
 "metadata": {
  "kernelspec": {
   "display_name": "Python 3",
   "language": "python",
   "name": "python3"
  },
  "language_info": {
   "codemirror_mode": {
    "name": "ipython",
    "version": 3
   },
   "file_extension": ".py",
   "mimetype": "text/x-python",
   "name": "python",
   "nbconvert_exporter": "python",
   "pygments_lexer": "ipython3",
   "version": "3.8.3"
  }
 },
 "nbformat": 4,
 "nbformat_minor": 4
}
